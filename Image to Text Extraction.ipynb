{
 "cells": [
  {
   "cell_type": "code",
   "execution_count": null,
   "id": "12b0a94e",
   "metadata": {},
   "outputs": [],
   "source": [
    "###Reference files\n",
    "\n",
    "\"\"\"\"https://github.com/UB-Mannheim/tesseract/wiki\n",
    "https://sourceforge.net/projects/tesseract-ocr/ \n",
    "https://nanonets.com/blog/ocr-with-tesseract/\n",
    "Installation  in system -  https://github.com/UB-Mannheim/tesseract/wiki\n",
    "                                           https://sourceforge.net/projects/tesseract-ocr/\n",
    "\n",
    "\n",
    "Installation of pytesseract package-  https://pypi.org/project/pytesseract/\n",
    "Installation of cv2 -   conda install -c conda-forge/label/cf202003 opencv\n",
    "Pytesseract-OCR documentation - https://nanonets.com/blog/ocr-with-tesseract/"
   ]
  },
  {
   "cell_type": "code",
   "execution_count": null,
   "id": "b522670e",
   "metadata": {},
   "outputs": [],
   "source": [
    "#pip install pytesseract\n"
   ]
  },
  {
   "cell_type": "code",
   "execution_count": null,
   "id": "4e6d75cd",
   "metadata": {},
   "outputs": [],
   "source": [
    "#pip install opencv-python"
   ]
  },
  {
   "cell_type": "code",
   "execution_count": null,
   "id": "4a4f56db",
   "metadata": {},
   "outputs": [],
   "source": [
    "import pytesseract\n",
    "from PIL import Image \n",
    "import cv2 "
   ]
  },
  {
   "cell_type": "code",
   "execution_count": null,
   "id": "f2e680c4",
   "metadata": {},
   "outputs": [],
   "source": [
    "# load path of Tesseract Application from Drivr\n",
    "pytesseract.pytesseract.tesseract_cmd = 'C:\\\\Program Files\\\\Tesseract-OCR\\\\tesseract.exe'"
   ]
  },
  {
   "cell_type": "code",
   "execution_count": null,
   "id": "851fd340",
   "metadata": {},
   "outputs": [],
   "source": [
    "pytesseract.pytesseract.tesseract_cmd"
   ]
  },
  {
   "cell_type": "code",
   "execution_count": null,
   "id": "0103abee",
   "metadata": {},
   "outputs": [],
   "source": [
    "tessdata_dir_config = '--tessdata-dir \"C:\\\\Program Files\\\\Tesseract-OCR\\\\tessdata\"'"
   ]
  },
  {
   "cell_type": "code",
   "execution_count": null,
   "id": "ed68f606",
   "metadata": {},
   "outputs": [],
   "source": [
    "tessdata_dir_config"
   ]
  },
  {
   "cell_type": "code",
   "execution_count": null,
   "id": "ac799ce6",
   "metadata": {},
   "outputs": [],
   "source": [
    "# loading image path from drive\n",
    "img = cv2.imread(\"C:\\\\Users\\\\admin\\\\Desktop\\\\notary.png\")\n",
    " \n"
   ]
  },
  {
   "cell_type": "code",
   "execution_count": null,
   "id": "9ec24226",
   "metadata": {},
   "outputs": [],
   "source": [
    "cv2.imshow('sample image', img)\n"
   ]
  },
  {
   "cell_type": "code",
   "execution_count": null,
   "id": "43b17b14",
   "metadata": {},
   "outputs": [],
   "source": [
    "###cv2.waitKey(0)\n",
    "###cv2.destroyAllWindows()"
   ]
  },
  {
   "cell_type": "code",
   "execution_count": null,
   "id": "34fde94a",
   "metadata": {},
   "outputs": [],
   "source": [
    "\n",
    "text = pytesseract.image_to_string(img ,config=tessdata_dir_config) \n",
    "\n",
    "text"
   ]
  },
  {
   "cell_type": "code",
   "execution_count": null,
   "id": "fc7a83ce",
   "metadata": {},
   "outputs": [],
   "source": [
    "\"\"\"text = pytesseract.image_to_string(img ,config=tessdata_dir_config, lang='tha') \n",
    "\n",
    "text"
   ]
  },
  {
   "cell_type": "code",
   "execution_count": null,
   "id": "804f1f29",
   "metadata": {},
   "outputs": [],
   "source": []
  },
  {
   "cell_type": "code",
   "execution_count": null,
   "id": "d548e1e2",
   "metadata": {},
   "outputs": [],
   "source": []
  }
 ],
 "metadata": {
  "kernelspec": {
   "display_name": "Python 3 (ipykernel)",
   "language": "python",
   "name": "python3"
  },
  "language_info": {
   "codemirror_mode": {
    "name": "ipython",
    "version": 3
   },
   "file_extension": ".py",
   "mimetype": "text/x-python",
   "name": "python",
   "nbconvert_exporter": "python",
   "pygments_lexer": "ipython3",
   "version": "3.8.12"
  }
 },
 "nbformat": 4,
 "nbformat_minor": 5
}
